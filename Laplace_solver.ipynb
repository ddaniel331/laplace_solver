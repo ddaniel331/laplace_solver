{
 "cells": [
  {
   "cell_type": "markdown",
   "metadata": {},
   "source": [
    "# Solving for droplet's geometry for a given force and height"
   ]
  },
  {
   "cell_type": "markdown",
   "metadata": {},
   "source": [
    "<img src=\"Force_angle_only.png\" style=\"width:400px\">\n"
   ]
  },
  {
   "cell_type": "markdown",
   "metadata": {},
   "source": [
    "This code demonstrates how solve for a droplet's geometry of known volume $V$ and height $h$ and subjected to some pulling force $F$. $2a$ is the size. Instructions on setting up python on your computer can be found in https://swcarpentry.github.io/2013-08-23-harvard/.\n",
    "\n",
    "Libraries required:\n",
    "1. numpy\n",
    "2. matplotlib\n",
    "3. scipy\n",
    "4. seaborn\n",
    "\n"
   ]
  },
  {
   "cell_type": "markdown",
   "metadata": {},
   "source": [
    "## Set up jupyter notebook"
   ]
  },
  {
   "cell_type": "code",
   "execution_count": 1,
   "metadata": {
    "collapsed": true
   },
   "outputs": [],
   "source": [
    "% matplotlib inline\n",
    "import numpy as np\n",
    "import matplotlib.pyplot as plt\n",
    "import seaborn as sns\n",
    "\n",
    "from scipy.integrate import odeint\n",
    "from scipy.optimize import newton, fsolve\n",
    "from scipy.integrate import simps\n"
   ]
  },
  {
   "cell_type": "markdown",
   "metadata": {},
   "source": [
    "## Solving non-dimensionalized Laplace equation\n",
    "\n",
    "Following the approach of Butt et al, Curr. Opin. Colloid Interface Sci. 19, 343-354 (2014), we non-dimensionalize the variables by $a$ and $\\gamma$, i.e.\n",
    "\n",
    "\\begin{align}\n",
    "\\hat{F} &=  F \\gamma^{-1} a^{-1} \\\\\n",
    "\\hat{r} &=  r a^{-1} \\\\\n",
    "\\hat{V} &=  V a^{-3} \\\\\n",
    "\\Delta \\hat{P} &=  \\Delta P a \\gamma^{-1},\\mathrm{etc}\n",
    "\\end{align}\n",
    "\n",
    "and hence, we get the non-dimensionalized Young-Laplace equation\n",
    "\n",
    "\\begin{align}\n",
    "\\frac{\\hat{u}''}{(1+\\hat{u}'^{2})^{3/2}} - \\frac{1}{\\hat{u}\\sqrt{1 + \\hat{u}'^{2}}}\n",
    "&= -\\Delta \\hat{P} \\; \\mathrm{for} \\; \\hat{z} \\in (0, \\hat{h}) \\\\\n",
    "\\end{align}\n",
    "\n",
    "subject to the boundary conditions\n",
    "\n",
    "\\begin{align}\n",
    "\\hat{u}(0) &= \\hat{r} \\\\\n",
    "\\hat{u}(\\hat{h}) &= 1 \\\\\n",
    "\\int_{0}^{h} \\pi \\hat{u}^{2}d\\hat{z} &= \\hat{V} \\\\\n",
    "\\end{align}\n",
    "\n",
    "and \n",
    "\n",
    "\\begin{align}\n",
    "F &= -\\frac{2 \\pi \\hat{r}}{\\sqrt{1 + \\hat{u}'(0)^{2}}} + \\pi r^{2}\\Delta P.  \n",
    "\\end{align}\n",
    "\n",
    "Using the shooting method, we chose to frame the Young-Laplace equation as an initial value problem, with initial values\n",
    "\n",
    "\\begin{align}\n",
    "\\hat{u}(0) &= \\hat{r} \\\\\n",
    "\\hat{u}'(0) &= -\\cot \\theta,\n",
    "\\end{align}\n",
    "\n",
    "while requiring that\n",
    "\n",
    "$$\\mathbf{\\hat{m}}(\\hat{r}, \\Delta \\hat{P}, \\theta) =\n",
    "\\begin{pmatrix} \\hat{u}(\\hat{h})- 1 \\\\ \n",
    "\\int_{0}^{\\hat{h}} \\pi \\hat{u}^{2}d\\hat{z} - \\hat{V}\\\\\n",
    "\\hat{F} + 2 \\pi \\gamma \\hat{r} \\sin \\theta - \\pi \\hat{r}^{2}\\Delta \\hat{P}\n",
    " \\end{pmatrix} = 0$$.\n",
    "\n",
    "This converts the boundary value problem into a root-finding problem of $\\mathbf{\\hat{m}}=0$, as implemented below\n",
    "\n"
   ]
  },
  {
   "cell_type": "code",
   "execution_count": 2,
   "metadata": {
    "collapsed": true
   },
   "outputs": [],
   "source": [
    "n_point = 100  # number of points to plot droplet profile\n",
    "\n",
    "def ode(u, z):\n",
    "    return np.array([u[1], (1+u[1]**2)**(1.5)*(1/(u[0]*np.sqrt(1+u[1]**2)) - u[2]), 0])  \n",
    "\n",
    "# Calculate the residue \n",
    "def m_res(x, h_f, F_exp):\n",
    "    \n",
    "    r = x[0]\n",
    "    dP = x[1]\n",
    "    theta = x[2]\n",
    "    \n",
    "    z_arr = np.linspace(0, h_f, n_point)\n",
    "\n",
    "    y_start = np.array([r, -1/np.tan(theta), dP])\n",
    "    sol = odeint(ode, y_start, z_arr, atol=1e-10)\n",
    "    u_arr = sol[:,0]\n",
    "    dP_arr = sol[:,2]\n",
    "    u_arr_1 = u_arr[dP_arr == dP]\n",
    "    z_arr_1 = z_arr[dP_arr == dP]\n",
    "    V_int = simps(np.pi*u_arr_1**2, z_arr_1)\n",
    "    \n",
    "    u_h = u_arr[-1]\n",
    "    \n",
    "    \n",
    "    F = 2*np.pi*r*np.sin(theta) - dP*np.pi*r**2\n",
    "    return np.array([1-u_h, V_norm-V_int, F-F_exp])\n",
    "        \n",
    "    \n",
    "def calculate_sol(x, hf):\n",
    "    r = x[0]\n",
    "    dP = x[1]\n",
    "    theta = x[2]\n",
    "    \n",
    "    z_arr = np.linspace(0, hf, n_point)\n",
    "\n",
    "    y_start = np.array([r, -1/np.tan(theta), dP])\n",
    "    sol = odeint(ode, y_start, z_arr, atol=1e-10)\n",
    "    u_arr = sol[:,0]\n",
    "    dP_arr = sol[:,2]\n",
    "    u_arr_1 = u_arr[dP_arr == dP]\n",
    "    z_arr_1 = z_arr[dP_arr == dP]\n",
    "    V_int = simps(np.pi*u_arr_1**2, z_arr_1)\n",
    "    \n",
    "    F_sol = 2*np.pi*r*np.sin(theta) - dP*np.pi*r**2\n",
    "    \n",
    "    return z_arr, u_arr, dP, V_int, F_sol"
   ]
  },
  {
   "cell_type": "markdown",
   "metadata": {},
   "source": [
    "# Results"
   ]
  },
  {
   "cell_type": "markdown",
   "metadata": {},
   "source": [
    "For droplet of height $h$ = 45 $\\mu$m, subjected to a pulling force $F$ = 683 nN"
   ]
  },
  {
   "cell_type": "code",
   "execution_count": 3,
   "metadata": {
    "collapsed": false
   },
   "outputs": [
    {
     "name": "stdout",
     "output_type": "stream",
     "text": [
      "[  1.92686977e-11   1.79755943e-09   2.51516030e-10]\n"
     ]
    }
   ],
   "source": [
    "# Droplet parameters\n",
    "H = 44.9989462 # Droplet height in um\n",
    "F = -683.07264 # Force in nN\n",
    "\n",
    "V = 50. # Droplet volume in pl\n",
    "a = 14. # Contact size in um\n",
    "gamma = 70.# Surface tension in mN/m\n",
    "\n",
    "# Non-dimensionalized parameters\n",
    "V_norm = V/a**3*1e3\n",
    "H_norm = H/a\n",
    "F_norm = -F/(a*gamma)\n",
    "\n",
    "# guess values (non-dimensionalized)\n",
    "dP = 1.0                       \n",
    "r0 = 0.3\n",
    "t0 = 140./180*np.pi\n",
    "\n",
    "x_guess = np.array([r0, dP, t0])\n",
    "\n",
    "# root-finding solver, look for solution m=0\n",
    "x_opt = fsolve(m_res, x_guess, args=(H_norm, F_norm))\n",
    "print m_res(x_opt, H_norm, F_norm)"
   ]
  },
  {
   "cell_type": "code",
   "execution_count": 4,
   "metadata": {
    "collapsed": false
   },
   "outputs": [
    {
     "name": "stdout",
     "output_type": "stream",
     "text": [
      "Contact size is 9.5 um\n",
      "Contact angle is 148.4 deg\n",
      "Pressure inside droplet is 5.8 kPa\n"
     ]
    },
    {
     "data": {
      "image/png": "[encoded data removed]",
      "text/plain": [
       "<matplotlib.figure.Figure at 0x103d4ead0>"
      ]
     },
     "metadata": {},
     "output_type": "display_data"
    }
   ],
   "source": [
    "sns.set_style(\"ticks\")\n",
    "color_b = sns.xkcd_rgb[\"marine\"]\n",
    "\n",
    "z_sol, u_sol, p_sol, V_sol, F_sol = calculate_sol(x_opt, H_norm)\n",
    "\n",
    "z_shift = 10 # shifting the base by 10 um\n",
    "\n",
    "plt.plot(u_sol*a, z_sol*a+z_shift, color=color_b)\n",
    "plt.plot(-u_sol*a, z_sol*a+z_shift, color=color_b)\n",
    "\n",
    "plt.plot([-40, 40], [z_shift, z_shift], '-k') # plotting the base\n",
    "plt.plot([-u_sol[-1]*a, u_sol[-1]*a], [H+z_shift, H+z_shift], '-k', alpha=0.5, lw=5)\n",
    "\n",
    "plt.xlim([-73./2, 73./2])\n",
    "plt.ylim([0,82])\n",
    "plt.xlabel(\"x (um)\")\n",
    "plt.ylabel(\"z (um)\")\n",
    "\n",
    "plt.axes().set_aspect('equal')\n",
    "\n",
    "\n",
    "#print out the fitted results\n",
    "r_fit = x_opt[0]\n",
    "P_fit = x_opt[1]\n",
    "t_fit = x_opt[2]\n",
    "\n",
    "print \"Contact size is %s um\" %(np.round(2*r_fit*a,1))\n",
    "print \"Contact angle is %s deg\" %(np.round(t_fit/np.pi*180,1))\n",
    "print \"Pressure inside droplet is %s kPa\" %(np.round(P_fit*gamma/a,1))"
   ]
  },
  {
   "cell_type": "markdown",
   "metadata": {},
   "source": [
    "For droplet of height $h$ = 36 $\\mu$m, subjected to a pulling force $F$ = 150 nN"
   ]
  },
  {
   "cell_type": "code",
   "execution_count": 5,
   "metadata": {
    "collapsed": false
   },
   "outputs": [
    {
     "name": "stdout",
     "output_type": "stream",
     "text": [
      "[ -5.41329204e-11   1.61772817e-10   1.23185739e-10]\n"
     ]
    }
   ],
   "source": [
    "# Droplet parameters\n",
    "H = 36 # Droplet height in um\n",
    "F = -150 # Force in nN\n",
    "\n",
    "V = 50. # Droplet volume in pl\n",
    "a = 14. # Contact size in um\n",
    "gamma = 70.# Surface tension in mN/m\n",
    "\n",
    "# Non-dimensionalized parameters\n",
    "V_norm = V/a**3*1e3\n",
    "H_norm = H/a\n",
    "F_norm = -F/(a*gamma)\n",
    "\n",
    "# guess values (non-dimensionalized)\n",
    "dP = 1.0                       \n",
    "r0 = 0.3\n",
    "t0 = 140./180*np.pi\n",
    "\n",
    "x_guess = np.array([r0, dP, t0])\n",
    "\n",
    "# root-finding solver, look for solution m=0\n",
    "x_opt = fsolve(m_res, x_guess, args=(H_norm, F_norm))\n",
    "print m_res(x_opt, H_norm, F_norm)"
   ]
  },
  {
   "cell_type": "code",
   "execution_count": 6,
   "metadata": {
    "collapsed": false
   },
   "outputs": [
    {
     "name": "stdout",
     "output_type": "stream",
     "text": [
      "Contact size is 33.1 um\n",
      "Contact angle is 134.2 deg\n",
      "Pressure inside droplet is 5.9 kPa\n"
     ]
    },
    {
     "data": {
      "image/png": "[encoded data removed]",
      "text/plain": [
       "<matplotlib.figure.Figure at 0x116dc50d0>"
      ]
     },
     "metadata": {},
     "output_type": "display_data"
    }
   ],
   "source": [
    "z_sol, u_sol, p_sol, V_sol, F_sol = calculate_sol(x_opt, H_norm)\n",
    "\n",
    "z_shift = 10 # shifting the base by 10 um\n",
    "\n",
    "plt.plot(u_sol*a, z_sol*a+z_shift, color=color_b)\n",
    "plt.plot(-u_sol*a, z_sol*a+z_shift, color=color_b)\n",
    "\n",
    "plt.plot([-40, 40], [z_shift, z_shift], '-k') # plotting the base\n",
    "plt.plot([-u_sol[-1]*a, u_sol[-1]*a], [H+z_shift, H+z_shift], '-k', alpha=0.5, lw=5)\n",
    "\n",
    "plt.xlim([-73./2, 73./2])\n",
    "plt.ylim([0,82])\n",
    "plt.xlabel(\"x (um)\")\n",
    "plt.ylabel(\"z (um)\")\n",
    "\n",
    "plt.axes().set_aspect('equal')\n",
    "\n",
    "\n",
    "#print out the fitted results\n",
    "r_fit = x_opt[0]\n",
    "P_fit = x_opt[1]\n",
    "t_fit = x_opt[2]\n",
    "\n",
    "print \"Contact size is %s um\" %(np.round(2*r_fit*a,1))\n",
    "print \"Contact angle is %s deg\" %(np.round(t_fit/np.pi*180,1))\n",
    "print \"Pressure inside droplet is %s kPa\" %(np.round(P_fit*gamma/a,1))"
   ]
  }
 ],
 "metadata": {
  "kernelspec": {
   "display_name": "Python [Root]",
   "language": "python",
   "name": "Python [Root]"
  },
  "language_info": {
   "codemirror_mode": {
    "name": "ipython",
    "version": 2
   },
   "file_extension": ".py",
   "mimetype": "text/x-python",
   "name": "python",
   "nbconvert_exporter": "python",
   "pygments_lexer": "ipython2",
   "version": "2.7.12"
  }
 },
 "nbformat": 4,
 "nbformat_minor": 0
}
